{
  "nbformat": 4,
  "nbformat_minor": 0,
  "metadata": {
    "colab": {
      "provenance": []
    },
    "kernelspec": {
      "name": "python3",
      "display_name": "Python 3"
    },
    "language_info": {
      "name": "python"
    }
  },
  "cells": [
    {
      "cell_type": "markdown",
      "source": [
        "# Scraping Ulasan Aplikasi ChatGPT dari Google Play Store"
      ],
      "metadata": {
        "id": "ZltOuEWCSlGn"
      }
    },
    {
      "cell_type": "code",
      "source": [
        "# instalasi library google-play-scraper\n",
        "!pip install google-play-scraper"
      ],
      "metadata": {
        "colab": {
          "base_uri": "https://localhost:8080/"
        },
        "id": "7O4bxVDINuxy",
        "outputId": "f8c7ac28-57b7-45ad-d17c-3d82c4dfbf3a"
      },
      "execution_count": 1,
      "outputs": [
        {
          "output_type": "stream",
          "name": "stdout",
          "text": [
            "Requirement already satisfied: google-play-scraper in /usr/local/lib/python3.12/dist-packages (1.2.7)\n"
          ]
        }
      ]
    },
    {
      "cell_type": "code",
      "execution_count": 2,
      "metadata": {
        "id": "IPWAw36VLJs5"
      },
      "outputs": [],
      "source": [
        "# import library\n",
        "from google_play_scraper import Sort, reviews\n",
        "import pandas as pd"
      ]
    },
    {
      "cell_type": "code",
      "source": [
        "# Mengambil sebanyak 20000 ulasan ChatGPT berbahasa Indonesia\n",
        "result, continuation_token = reviews(\n",
        "    'com.openai.chatgpt',\n",
        "    lang = 'id',\n",
        "    country = 'id',\n",
        "    sort=Sort.MOST_RELEVANT,\n",
        "    count=20000,\n",
        "    filter_score_with=None\n",
        ")"
      ],
      "metadata": {
        "id": "3Dln_8mEOEIO"
      },
      "execution_count": 3,
      "outputs": []
    },
    {
      "cell_type": "code",
      "source": [
        "# Simpan ke file CSV\n",
        "df = pd.DataFrame(result)\n",
        "df.to_csv('chatgpt_reviews.csv', index=False)"
      ],
      "metadata": {
        "id": "ZjpN9mi1RoKE"
      },
      "execution_count": 4,
      "outputs": []
    }
  ]
}